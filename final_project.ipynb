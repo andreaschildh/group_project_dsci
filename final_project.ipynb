{
 "cells": [
  {
   "cell_type": "markdown",
   "id": "d24480c8-caaa-4872-aaa4-a56b4f5e7682",
   "metadata": {},
   "source": [
    "# DSCI 100 Project"
   ]
  },
  {
   "cell_type": "markdown",
   "id": "fe6a230b-4139-4b48-9887-ee2e48349f7e",
   "metadata": {},
   "source": [
    "## Introduction"
   ]
  },
  {
   "cell_type": "markdown",
   "id": "99e6248e-ef2b-4267-822c-71e780023617",
   "metadata": {},
   "source": [
    "## Methods and Results"
   ]
  },
  {
   "cell_type": "markdown",
   "id": "f736e5e3-b04b-4bd2-9eef-d18a42403a9f",
   "metadata": {},
   "source": [
    "## Discussion"
   ]
  },
  {
   "cell_type": "markdown",
   "id": "9712f707-dead-4427-92e6-850fe5a8b1a8",
   "metadata": {},
   "source": [
    "## References"
   ]
  },
  {
   "cell_type": "code",
   "execution_count": null,
   "id": "89e1b402-2fb9-48a5-a23d-2bbb84d71261",
   "metadata": {},
   "outputs": [],
   "source": []
  }
 ],
 "metadata": {
  "kernelspec": {
   "display_name": "R",
   "language": "R",
   "name": "ir"
  },
  "language_info": {
   "codemirror_mode": "r",
   "file_extension": ".r",
   "mimetype": "text/x-r-source",
   "name": "R",
   "pygments_lexer": "r",
   "version": "4.3.1"
  }
 },
 "nbformat": 4,
 "nbformat_minor": 5
}
